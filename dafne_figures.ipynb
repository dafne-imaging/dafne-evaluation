{
 "cells": [
  {
   "cell_type": "markdown",
   "id": "84a3dee0-9fdd-460f-8e0c-7b6cd2981858",
   "metadata": {},
   "source": [
    "# Processing scripts for generating figures for Dafne paper"
   ]
  },
  {
   "cell_type": "markdown",
   "id": "509aabfb-ead9-4571-b53a-2e68f97d8627",
   "metadata": {},
   "source": [
    "## Processing log file"
   ]
  },
  {
   "cell_type": "code",
   "execution_count": 5,
   "id": "53f2958a-b061-4246-a45e-29efc390ded2",
   "metadata": {},
   "outputs": [],
   "source": [
    "import os\n",
    "from typing import Iterable\n",
    "import re\n",
    "\n",
    "DELETE_NONANON_FILES = False\n",
    "\n",
    "def find_elements_pattern(string_list: Iterable[str], pattern: str):\n",
    "    return [ s for s in string_list if re.match(pattern, s) is not None]"
   ]
  },
  {
   "cell_type": "markdown",
   "id": "020b10f9-df6c-4b96-ba09-0d3c529dcfc3",
   "metadata": {},
   "source": [
    "### Anonymization"
   ]
  },
  {
   "cell_type": "code",
   "execution_count": 8,
   "id": "c1d6ec6f-6bfa-4d5d-abb6-ed0655aca884",
   "metadata": {},
   "outputs": [
    {
     "name": "stdout",
     "output_type": "stream",
     "text": [
      "Anonymized log_20220831_orig.txt\n"
     ]
    }
   ],
   "source": [
    "def anonymize_line(line: str):\n",
    "    pattern = 'accessed by \\S+'\n",
    "    rep = 'accessed by XXXXXXX'\n",
    "    line = re.sub(pattern, rep, line)\n",
    "    pattern2 = 'Log message from \\S+'\n",
    "    rep2 = 'Log message from XXXXXXX'\n",
    "    line = re.sub(pattern2, rep2, line)\n",
    "    pattern3 = r'([0-9]+)_\\S+.model'\n",
    "    rep3 = r'\\1_XXXXXXX.model'\n",
    "    line = re.sub(pattern3, rep3, line)\n",
    "    return line\n",
    "    \n",
    "\n",
    "def anonymize_file(filename: str):\n",
    "    out_filename = filename[:-3] + 'anon.txt'\n",
    "    with open(filename, 'r') as input_file:\n",
    "        with open(out_filename, 'w') as output_file:\n",
    "            for line in input_file:\n",
    "                output_file.write(anonymize_line(line))\n",
    "\n",
    "files = os.listdir()\n",
    "nonanon_log_files = find_elements_pattern(files, 'log.*(?<!anon)\\.txt')\n",
    "for file in nonanon_log_files:\n",
    "    anonymize_file(file)\n",
    "    if DELETE_NONANON_FILES:\n",
    "        os.unlink(file)\n",
    "    print('Anonymized', file)\n"
   ]
  },
  {
   "cell_type": "markdown",
   "id": "7dfee73a-bc2e-42ee-98b4-a21d405377f3",
   "metadata": {},
   "source": [
    "### Read in anonymized file"
   ]
  },
  {
   "cell_type": "code",
   "execution_count": 6,
   "id": "88d8e581-efc8-4efd-984a-bc0ffb41561d",
   "metadata": {},
   "outputs": [
    {
     "name": "stdout",
     "output_type": "stream",
     "text": [
      "Reading from log_20220831_orig.anon.txt\n"
     ]
    }
   ],
   "source": [
    "import os\n",
    "from dateutil.parser import parse\n",
    "import pandas as pd\n",
    "\n",
    "files = os.listdir()\n",
    "anon_log_files = find_elements_pattern(files, 'log.*anon\\.txt')\n",
    "anon_log_file = anon_log_files[0]\n",
    "print('Reading from', anon_log_file)\n",
    "\n",
    "def split_log_line(line: str):\n",
    "    date_part = line[:27]\n",
    "    text_part = line[27:].strip()\n",
    "    date = parse(date_part)\n",
    "    return (date, text_part)\n",
    "\n",
    "with open(anon_log_file,'r') as f:\n",
    "    log_lines = [ split_log_line(line) for line in f ]\n",
    "    \n",
    "log_frame = pd.DataFrame(log_lines, columns = ['DateTime', 'Message'])\n",
    "log_frame = log_frame.set_index('DateTime')\n"
   ]
  },
  {
   "cell_type": "markdown",
   "id": "088e1977-41ad-4e3e-9a3a-5241dbb3710f",
   "metadata": {},
   "source": [
    "### Filter dates and messages"
   ]
  },
  {
   "cell_type": "code",
   "execution_count": 49,
   "id": "665170eb-93a2-4e36-9ca2-5a966090e1e1",
   "metadata": {},
   "outputs": [],
   "source": [
    "from datetime import datetime\n",
    "\n",
    "date_start = datetime(2021,7,1)\n",
    "\n",
    "sub_frame = log_frame.loc[date_start:]"
   ]
  },
  {
   "cell_type": "code",
   "execution_count": 50,
   "id": "40d17245-97f5-49e7-be8e-ab6de7dc046d",
   "metadata": {},
   "outputs": [
    {
     "name": "stdout",
     "output_type": "stream",
     "text": [
      "<class 'pandas.core.series.Series'>\n",
      "DatetimeIndex: 256 entries, 2021-07-05 08:43:32.036859 to 2022-08-30 14:34:38.191543\n",
      "Series name: Message\n",
      "Non-Null Count  Dtype  \n",
      "--------------  -----  \n",
      "256 non-null    float64\n",
      "dtypes: float64(1)\n",
      "memory usage: 4.0 KB\n"
     ]
    }
   ],
   "source": [
    "# Extract dice scores\n",
    "\n",
    "def extract_dice(line):\n",
    "    m = re.search('client dice ([0-9.]+)', line)\n",
    "    if not m: return None\n",
    "    return float(m.group(1))\n",
    "\n",
    "dice_messages_mask = sub_frame['Message'].str.contains('client dice')\n",
    "dice_messages_frame = sub_frame[dice_messages_mask]\n",
    "dice_scores = dice_messages_frame['Message'].apply(extract_dice)\n",
    "dice_scores = dice_scores[dice_scores > 0]\n",
    "dice_scores.info()"
   ]
  },
  {
   "cell_type": "code",
   "execution_count": 51,
   "id": "a57d2b86-5b99-40a9-b050-17533642b46f",
   "metadata": {},
   "outputs": [
    {
     "data": {
      "text/plain": [
       "[<matplotlib.lines.Line2D at 0x7f5506f18190>]"
      ]
     },
     "execution_count": 51,
     "metadata": {},
     "output_type": "execute_result"
    },
    {
     "data": {
      "image/png": "[encoded data removed]",
      "text/plain": [
       "<Figure size 640x480 with 1 Axes>"
      ]
     },
     "metadata": {},
     "output_type": "display_data"
    }
   ],
   "source": [
    "import matplotlib.pyplot as plt\n",
    "import numpy as np\n",
    "dice_scores_notime = np.array(list(dice_scores))\n",
    "plt.plot(dice_scores_notime, '.')"
   ]
  }
 ],
 "metadata": {
  "kernelspec": {
   "display_name": "Python 3 (ipykernel)",
   "language": "python",
   "name": "python3"
  },
  "language_info": {
   "codemirror_mode": {
    "name": "ipython",
    "version": 3
   },
   "file_extension": ".py",
   "mimetype": "text/x-python",
   "name": "python",
   "nbconvert_exporter": "python",
   "pygments_lexer": "ipython3",
   "version": "3.9.13"
  }
 },
 "nbformat": 4,
 "nbformat_minor": 5
}
